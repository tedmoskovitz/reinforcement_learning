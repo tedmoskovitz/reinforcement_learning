{
 "cells": [
  {
   "cell_type": "markdown",
   "metadata": {
    "collapsed": true
   },
   "source": [
    "### This is Example 4.3. Gambler’s Problem from Sutton's book.\n",
    "\n",
    "A gambler has the opportunity to make bets on the outcomes of a sequence of coin flips. \n",
    "If the coin comes up heads, he wins as many dollars as he has staked on that flip; \n",
    "if it is tails, he loses his stake. The game ends when the gambler wins by reaching his goal of $100, \n",
    "or loses by running out of money. \n",
    "\n",
    "On each flip, the gambler must decide what portion of his capital to stake, in integer numbers of dollars. \n",
    "This problem can be formulated as an undiscounted, episodic, finite MDP. \n",
    "\n",
    "The state is the gambler’s capital, s ∈ {1, 2, . . . , 99}.\n",
    "The actions are stakes, a ∈ {0, 1, . . . , min(s, 100 − s)}. \n",
    "The reward is zero on all transitions except those on which the gambler reaches his goal, when it is +1.\n",
    "\n",
    "The state-value function then gives the probability of winning from each state. A policy is a mapping from levels of capital to stakes. The optimal policy maximizes the probability of reaching the goal. Let p_h denote the probability of the coin coming up heads. If p_h is known, then the entire problem is known and it can be solved, for instance, by value iteration.\n"
   ]
  },
  {
   "cell_type": "code",
   "execution_count": 1,
   "metadata": {},
   "outputs": [],
   "source": [
    "import numpy as np\n",
    "import sys\n",
    "import matplotlib.pyplot as plt\n",
    "if \"../\" not in sys.path:\n",
    "  sys.path.append(\"../\") "
   ]
  },
  {
   "cell_type": "markdown",
   "metadata": {
    "collapsed": true
   },
   "source": [
    "\n",
    "### Exercise 4.9 (programming)\n",
    "\n",
    "Implement value iteration for the gambler’s problem and solve it for p_h = 0.25 and p_h = 0.55.\n",
    "\n"
   ]
  },
  {
   "cell_type": "code",
   "execution_count": 28,
   "metadata": {},
   "outputs": [],
   "source": [
    "def value_iteration_for_gamblers(p_h, theta=0.0001, discount_factor=1.0):\n",
    "    \"\"\"\n",
    "    Args:\n",
    "        p_h: Probability of the coin coming up heads\n",
    "    \"\"\"\n",
    "    \n",
    "    def one_step_lookahead(s, V):\n",
    "        \"\"\"\n",
    "        Helper function to calculate the value for all action in a given state.\n",
    "        \n",
    "        Args:\n",
    "            s: The gambler’s capital. Integer.\n",
    "            V: The vector that contains values at each state. \n",
    "            rewards: The reward vector.\n",
    "                        \n",
    "        Returns:\n",
    "            A vector containing the expected value of each action. \n",
    "            Its length equals to the number of actions.\n",
    "        \"\"\"\n",
    "        max_stake = min(s, 100-s) \n",
    "        A = np.zeros(101)\n",
    "        \n",
    "        # iterate over possible actions \n",
    "        for stake in range(1,max_stake+1):\n",
    "            # tuple: (prob, next_state, reward, done)\n",
    "            # if win:\n",
    "            s_win = (p_h, s+stake, int(s+stake == 100), s+stake == 100)\n",
    "            # if lose:\n",
    "            s_lose = (1-p_h, s-stake, 0, s-stake == 0)\n",
    "            \n",
    "            outcomes = [s_win, s_lose]\n",
    "\n",
    "            for trans_prob, next_state, reward, done in outcomes:\n",
    "                A[stake] += trans_prob * (reward + discount_factor * V[next_state])\n",
    "        \n",
    "        return A\n",
    "    \n",
    "    goal = 100\n",
    "    policy = np.zeros(goal)\n",
    "    V = np.zeros(goal+1)\n",
    "    \n",
    "    while True:\n",
    "        delta = 0\n",
    "        # iterate over each state\n",
    "        for s in range(1,goal):\n",
    "            old_v = V[s]\n",
    "            # get q values for each action (stake) available from current state\n",
    "            qs = one_step_lookahead(s, V)\n",
    "            # find and set new action\n",
    "            policy[s] = np.argmax(qs)\n",
    "            # set new value estimate\n",
    "            V[s] = np.max(qs)\n",
    "            \n",
    "            # revise max change in value estimate\n",
    "            delta = max(delta, abs(V[s] - old_v))\n",
    "            \n",
    "        # create final policy using final value function\n",
    "        for s in range(1,goal):\n",
    "            qs = one_step_lookahead(s, V)\n",
    "            policy[s] = np.argmax(qs)\n",
    "            \n",
    "        if delta < theta:\n",
    "            return policy, V"
   ]
  },
  {
   "cell_type": "code",
   "execution_count": 35,
   "metadata": {},
   "outputs": [
    {
     "name": "stdout",
     "output_type": "stream",
     "text": [
      "Optimized Policy:\n",
      "[  0.   1.   2.   3.   4.   5.   6.   7.   8.   9.  10.  11.  12.  13.  14.\n",
      "  15.  16.  17.  18.  19.  20.  21.  22.  23.  24.  25.  26.  27.  28.  29.\n",
      "  30.  31.  32.  33.  34.  35.  36.  37.  38.  39.  40.  41.  42.  43.  44.\n",
      "  45.  46.  47.  48.  49.  25.  26.  27.  28.  29.  30.  31.  32.  33.  34.\n",
      "  35.  36.  37.   1.  14.  15.  16.  17.  18.  19.  20.  21.  22.  23.  24.\n",
      "  25.   2.   4.   3.  17.   7.   6.   7.   8.   9.  10.  11.  12.   1.   2.\n",
      "   9.   4.   5.   6.   5.   3.   3.   1.   2.   1.]\n",
      "\n",
      "Optimized Value Function:\n",
      "[ 0.          0.00999999  0.02        0.03        0.04        0.05        0.06\n",
      "  0.07        0.08        0.09        0.1         0.11        0.12        0.13\n",
      "  0.14        0.15        0.16        0.17        0.18        0.19        0.2\n",
      "  0.21        0.22        0.23        0.24        0.25        0.26        0.27\n",
      "  0.28        0.29        0.3         0.31        0.32        0.33        0.34\n",
      "  0.35        0.36        0.37        0.38        0.39        0.4         0.41\n",
      "  0.42        0.43        0.44        0.45        0.46        0.47        0.48\n",
      "  0.49        0.5         0.51        0.52        0.53        0.54        0.55\n",
      "  0.56        0.57        0.58        0.59        0.6         0.61        0.62\n",
      "  0.63        0.64        0.65        0.66        0.67        0.68        0.69\n",
      "  0.7         0.71        0.72        0.73        0.74        0.75        0.76\n",
      "  0.77        0.78        0.79        0.8         0.81        0.82        0.83\n",
      "  0.84        0.85        0.86        0.87        0.88        0.89        0.9\n",
      "  0.91        0.92        0.93        0.94        0.95        0.96        0.97\n",
      "  0.98        0.99        0.        ]\n",
      "\n"
     ]
    }
   ],
   "source": [
    "policy, v = value_iteration_for_gamblers(0.5)\n",
    "\n",
    "print(\"Optimized Policy:\")\n",
    "print(policy)\n",
    "print(\"\")\n",
    "\n",
    "print(\"Optimized Value Function:\")\n",
    "print(v)\n",
    "print(\"\")"
   ]
  },
  {
   "cell_type": "code",
   "execution_count": 36,
   "metadata": {},
   "outputs": [
    {
     "data": {
      "image/png": "[encoded data removed]",
      "text/plain": [
       "<matplotlib.figure.Figure at 0x106d44c88>"
      ]
     },
     "metadata": {},
     "output_type": "display_data"
    }
   ],
   "source": [
    "# Plotting Final Policy (action stake) vs State (Capital)\n",
    "plt.plot(range(100), v[:100])\n",
    "plt.xlabel('Capital')\n",
    "plt.ylabel('Value Estimates')\n",
    "plt.title('Final Policy (action stake) vs State (Capital)')\n",
    "plt.show()"
   ]
  },
  {
   "cell_type": "code",
   "execution_count": 37,
   "metadata": {},
   "outputs": [
    {
     "data": {
      "image/png": "[encoded data removed]",
      "text/plain": [
       "<matplotlib.figure.Figure at 0x106fb9320>"
      ]
     },
     "metadata": {},
     "output_type": "display_data"
    }
   ],
   "source": [
    "# Plotting Capital vs Final Policy\n",
    "\n",
    "# x axis values\n",
    "x = range(100)\n",
    "# corresponding y axis values\n",
    "y = policy\n",
    " \n",
    "# plotting the bars\n",
    "plt.bar(x, y, align='center', alpha=0.5)\n",
    " \n",
    "# naming the x axis\n",
    "plt.xlabel('Capital')\n",
    "# naming the y axis\n",
    "plt.ylabel('Final policy (stake)')\n",
    " \n",
    "# giving a title to the graph\n",
    "plt.title('Capital vs Final Policy')\n",
    " \n",
    "# function to show the plot\n",
    "plt.show()\n"
   ]
  },
  {
   "cell_type": "code",
   "execution_count": null,
   "metadata": {},
   "outputs": [],
   "source": []
  }
 ],
 "metadata": {
  "kernelspec": {
   "display_name": "Python 3",
   "language": "python",
   "name": "python3"
  },
  "language_info": {
   "codemirror_mode": {
    "name": "ipython",
    "version": 3
   },
   "file_extension": ".py",
   "mimetype": "text/x-python",
   "name": "python",
   "nbconvert_exporter": "python",
   "pygments_lexer": "ipython3",
   "version": "3.6.2"
  }
 },
 "nbformat": 4,
 "nbformat_minor": 1
}
